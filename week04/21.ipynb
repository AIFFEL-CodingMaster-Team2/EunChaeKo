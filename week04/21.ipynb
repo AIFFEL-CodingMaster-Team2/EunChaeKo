{
 "cells": [
  {
   "cell_type": "markdown",
   "metadata": {},
   "source": [
    "### 21. Merge Two Sorted Lists"
   ]
  },
  {
   "cell_type": "code",
   "execution_count": null,
   "metadata": {},
   "outputs": [],
   "source": [
    "# iterative\n",
    "class Solution:\n",
    "    def mergeTwoLists(self, l1: ListNode, l2: ListNode) -> ListNode:\n",
    "        dummy = ListNode(0)\n",
    "        node = dummy\n",
    "        \n",
    "        while l1 and l2:\n",
    "            if l1.val <= l2.val:\n",
    "                node.next = l1\n",
    "                l1 = l1.next\n",
    "            else:\n",
    "                node.next = l2\n",
    "                l2 = l2.next\n",
    "            node = node.next\n",
    "        \n",
    "        if l1:\n",
    "            node.next = l1\n",
    "        if l2:\n",
    "            node.next = l2\n",
    "        \n",
    "        return dummy.next"
   ]
  }
 ],
 "metadata": {
  "kernelspec": {
   "display_name": "Python 3",
   "language": "python",
   "name": "python3"
  },
  "language_info": {
   "codemirror_mode": {
    "name": "ipython",
    "version": 3
   },
   "file_extension": ".py",
   "mimetype": "text/x-python",
   "name": "python",
   "nbconvert_exporter": "python",
   "pygments_lexer": "ipython3",
   "version": "3.7.6"
  }
 },
 "nbformat": 4,
 "nbformat_minor": 4
}
